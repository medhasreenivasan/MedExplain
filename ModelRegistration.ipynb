{
  "cells": [
    {
      "cell_type": "code",
      "execution_count": 2,
      "metadata": {
        "id": "xvMB76dLORcz"
      },
      "outputs": [],
      "source": [
        "# Install requirements and Import\n",
        "%pip install -r /content/requirements.txt --quiet"
      ]
    },
    {
      "cell_type": "code",
      "execution_count": null,
      "metadata": {},
      "outputs": [],
      "source": [
        "from dotenv import load_dotenv\n",
        "import os\n",
        "\n",
        "load_dotenv()\n",
        "\n",
        "os.environ[\"HF_TOKEN\"] = os.getenv(\"HF_TOKEN\")\n"
      ]
    },
    {
      "cell_type": "code",
      "execution_count": 1,
      "metadata": {
        "id": "KWgmzgF1Q-Vn"
      },
      "outputs": [],
      "source": [
        "\n",
        "# Standard Library Imports\n",
        "import logging\n",
        "import warnings\n",
        "import json\n",
        "import os\n",
        "\n",
        "# Third-Party Libraries\n",
        "import shutil\n",
        "\n",
        "# MLflow for Experiment Tracking and Model Management\n",
        "import mlflow\n",
        "from mlflow import MlflowClient\n",
        "from mlflow.types.schema import Schema, ColSpec\n",
        "from mlflow.types import ParamSchema, ParamSpec\n",
        "from mlflow.models import ModelSignature\n",
        "\n",
        "# Transformers\n",
        "import torch\n",
        "from transformers import pipeline\n",
        "from transformers import BitsAndBytesConfig\n",
        "from transformers import AutoConfig, Gemma3ForConditionalGeneration, AutoTokenizer, AutoProcessor"
      ]
    },
    {
      "cell_type": "markdown",
      "metadata": {
        "id": "G0QqNtIjR1Tl"
      },
      "source": [
        "#Configurations"
      ]
    },
    {
      "cell_type": "code",
      "execution_count": 2,
      "metadata": {
        "id": "2lec8gHPRzhI"
      },
      "outputs": [],
      "source": [
        "\n",
        "warnings.filterwarnings(\"ignore\")"
      ]
    },
    {
      "cell_type": "code",
      "execution_count": 3,
      "metadata": {
        "id": "9HyCCz46R4UA"
      },
      "outputs": [],
      "source": [
        "# Define global experiment and run names to be used throughout the notebook\n",
        "MODEL_PERSONAL_NAME = \"google/medgemma-4b-it\"\n",
        "EXPERIMENT_NAME = \"Medgemma bot\"\n",
        "MODEL_NAME = \"MEDGEMMA\"\n",
        "RUN_NAME = 'MEDGEMMA'\n",
        "NAME = 'MEDGEMMA'\n"
      ]
    },
    {
      "cell_type": "code",
      "execution_count": 4,
      "metadata": {
        "id": "C8e8urCzS_T3"
      },
      "outputs": [],
      "source": [
        "# Model configs\n",
        "model_kwargs = dict(\n",
        "    torch_dtype=torch.bfloat16,\n",
        "    device_map=\"auto\",\n",
        ")\n",
        "model_kwargs[\"quantization_config\"] = BitsAndBytesConfig(load_in_4bit=True)"
      ]
    },
    {
      "cell_type": "markdown",
      "metadata": {
        "id": "AU5BElcB_8TV"
      },
      "source": []
    },
    {
      "cell_type": "code",
      "execution_count": 5,
      "metadata": {
        "id": "i11hSefkSRP7"
      },
      "outputs": [],
      "source": [
        "# === Create logger ===\n",
        "logger = logging.getLogger(\"deployment-notebook\")\n",
        "logger.setLevel(logging.INFO)\n",
        "\n",
        "formatter = logging.Formatter(\"%(asctime)s - %(levelname)s - %(message)s\",\n",
        "                             datefmt=\"%Y-%m-%d %H:%M:%S\")\n",
        "\n",
        "stream_handler = logging.StreamHandler()\n",
        "stream_handler.setFormatter(formatter)\n",
        "logger.addHandler(stream_handler)\n",
        "logger.propagate = False"
      ]
    },
    {
      "cell_type": "code",
      "execution_count": 6,
      "metadata": {
        "colab": {
          "base_uri": "https://localhost:8080/"
        },
        "id": "v3oKWrQBSVJN",
        "outputId": "e6ad54f7-c79e-4165-acd5-4add3152a0b4"
      },
      "outputs": [
        {
          "name": "stderr",
          "output_type": "stream",
          "text": [
            "2025-06-09 19:13:25 - INFO - Notebook execution started.\n"
          ]
        }
      ],
      "source": [
        "\n",
        "logger.info('Notebook execution started.')"
      ]
    },
    {
      "cell_type": "markdown",
      "metadata": {
        "id": "LY2CvO4XSXTw"
      },
      "source": [
        "# Model"
      ]
    },
    {
      "cell_type": "code",
      "execution_count": 7,
      "metadata": {
        "colab": {
          "base_uri": "https://localhost:8080/",
          "height": 104,
          "referenced_widgets": [
            "2ad904bda67e4df782d123155ce027ea",
            "323b01c20a9c4892825dc13f911f844e",
            "6b1f32998c5d4747b9157600bb29ced4",
            "ebda284cdf034437b47ce59beb21be3c",
            "2b0cadc2bb4d4c8fb0781c0559944487",
            "019b004144b445a190630abd4952c443",
            "9649dad7e8394683b87e2515e817b045",
            "0dc06059d5164d43895828888f38fe7c",
            "2b3369b4ce274fe782119588fa432b3a",
            "b70d4ade4a37485190da188a1e7f09a4",
            "0bbe2288b8cc40eb810ff55becc56c4d"
          ]
        },
        "id": "VdrAxEK6SY9h",
        "outputId": "7185b2f0-7290-487c-f569-98054030207f"
      },
      "outputs": [
        {
          "data": {
            "application/vnd.jupyter.widget-view+json": {
              "model_id": "2ad904bda67e4df782d123155ce027ea",
              "version_major": 2,
              "version_minor": 0
            },
            "text/plain": [
              "Loading checkpoint shards:   0%|          | 0/2 [00:00<?, ?it/s]"
            ]
          },
          "metadata": {},
          "output_type": "display_data"
        },
        {
          "name": "stderr",
          "output_type": "stream",
          "text": [
            "Using a slow image processor as `use_fast` is unset and a slow processor was saved with this model. `use_fast=True` will be the default behavior in v4.52, even if the model was saved with a slow processor. This will result in minor differences in outputs. You'll still be able to use a slow processor with `use_fast=False`.\n",
            "Device set to use cuda:0\n"
          ]
        }
      ],
      "source": [
        "\n",
        "model_name = MODEL_PERSONAL_NAME\n",
        "\n",
        "pipe = pipeline(\n",
        "    \"image-text-to-text\",\n",
        "    model=model_name,\n",
        ")\n"
      ]
    },
    {
      "cell_type": "code",
      "execution_count": 15,
      "metadata": {
        "colab": {
          "base_uri": "https://localhost:8080/"
        },
        "id": "iti_51chWSvk",
        "outputId": "0ee1e9ff-6087-4cd6-a46d-612d6631e256"
      },
      "outputs": [
        {
          "name": "stderr",
          "output_type": "stream",
          "text": [
            "Setting `pad_token_id` to `eos_token_id`:1 for open-end generation.\n"
          ]
        },
        {
          "data": {
            "text/plain": [
              "[{'input_text': 'What is a lesion?',\n",
              "  'generated_text': \"What is a lesion? A lesion is an abnormal growth or change in a tissue or organ. In medicine, a lesion is a specific area of tissue that has been damaged or altered. Lesions can be caused by many things, including trauma, infection, and genetic mutations.\\n\\nHere's a breakdown of what a lesion is, and some common examples:\\n\\n**Key Features of a Lesion:**\\n\\n*   **Abnormal Growth:**  This is the core defining characteristic. A lesion isn't a normal, healthy tissue; it's something *different*.\\n*   **Area of Change:** It represents a localized area of altered function or appearance.\\n*   **Variety of Causes:** Lesions can arise from diverse origins, as mentioned earlier.\\n*   **Diagnostic Importance:**  Identifying the *type* of lesion (its appearance, growth rate, response to treatment, etc.) is crucial for diagnosis and treatment.\\n\\n**Common Types of Lesions:**\\n\\nThe specific type of lesion is determined by its cause and location. Here are some examples of common lesions:\\n\\n**1. Skin Lesions:**\\n\\n*   **Moles (Nevus):** Benign (non-cancerous) skin growths, usually brown or black, but can be other colors.\\n*   **Skin Tags (Acrochordons):** Small, flesh-colored or slightly darker growths that often appear in areas of skin folds (armpits, neck, groin).\\n*   **Warts (Ver\"}]"
            ]
          },
          "execution_count": 15,
          "metadata": {},
          "output_type": "execute_result"
        }
      ],
      "source": [
        "#Sample pipeline test\n",
        "pipe(text=\"What is a lesion?\", max_new_tokens=300)"
      ]
    },
    {
      "cell_type": "markdown",
      "metadata": {
        "id": "iqW26CL3WkSL"
      },
      "source": [
        "# MLFLOW MODEL FORMAT"
      ]
    },
    {
      "cell_type": "code",
      "execution_count": 8,
      "metadata": {
        "id": "zUqEI7qaGcrf"
      },
      "outputs": [],
      "source": [
        "import base64\n",
        "from io import BytesIO\n",
        "from PIL import Image\n",
        "\n"
      ]
    },
    {
      "cell_type": "code",
      "execution_count": 9,
      "metadata": {
        "colab": {
          "base_uri": "https://localhost:8080/"
        },
        "id": "UNwORq4rWn_a",
        "outputId": "178fcbc1-d26a-4705-ac0e-30d9be7ac21b"
      },
      "outputs": [
        {
          "name": "stderr",
          "output_type": "stream",
          "text": [
            "/usr/local/lib/python3.11/dist-packages/mlflow/pyfunc/utils/data_validation.py:186: UserWarning: \u001b[33mAdd type hints to the `predict` method to enable data validation and automatic signature inference during model logging. Check https://mlflow.org/docs/latest/model/python_model.html#type-hint-usage-in-pythonmodel for more details.\u001b[0m\n",
            "  color_warning(\n"
          ]
        }
      ],
      "source": [
        "class MedGemmaModel(mlflow.pyfunc.PythonModel):\n",
        "\n",
        "  def decode_base64_to_image(self, base64_str: str) -> Image.Image:\n",
        "    \"\"\"\n",
        "    Decodes a base64-encoded string back into a PIL Image.\n",
        "\n",
        "    Args:\n",
        "        base64_str (str): The base64-encoded image string.\n",
        "\n",
        "    Returns:\n",
        "        PIL.Image.Image: The decoded image.\n",
        "    \"\"\"\n",
        "    try:\n",
        "        image_data = base64.b64decode(base64_str)\n",
        "        image = Image.open(BytesIO(image_data))\n",
        "        return image\n",
        "    except Exception as e:\n",
        "        print(f\"Error decoding base64 image: {e}\")\n",
        "        return None\n",
        "\n",
        "  def _preprocess(self,inputs):\n",
        "    \"\"\"\n",
        "    Preprocesses the input data.\n",
        "\n",
        "    Args:\n",
        "        inputs: A dictionary containing two keys:\n",
        "            - 'user_prompt': The user query.\n",
        "            - 'system_instruction': The system prompt with the context\n",
        "            - 'image': The image to be processed, if any.\n",
        "\n",
        "    Returns:\n",
        "        messages: A list of role based instructions to be sent to the model\n",
        "    \"\"\"\n",
        "    try:\n",
        "      user_prompt = inputs['user_prompt'][0]\n",
        "      system_instruction = inputs['system_instruction'][0]\n",
        "      image = inputs['image'][0]\n",
        "      max_tokens = inputs['max_tokens'][0]\n",
        "\n",
        "      print(\"pre processing\", user_prompt[:10])\n",
        "      if not system_instruction:\n",
        "        system_instruction = 'You are an excellent medical expert.'\n",
        "      if image:\n",
        "        image = self.decode_base64_to_image(image)\n",
        "        messages = [\n",
        "            {\n",
        "                \"role\": \"system\",\n",
        "                \"content\": [{\"type\": \"text\", \"text\": system_instruction}]\n",
        "            },\n",
        "            {\n",
        "                \"role\": \"user\",\n",
        "                \"content\": [\n",
        "                    {\"type\": \"text\", \"text\": user_prompt},\n",
        "                    {\"type\": \"image\", \"image\": image}\n",
        "                ]\n",
        "            }\n",
        "        ]\n",
        "      else:\n",
        "        messages = [\n",
        "            {\n",
        "                \"role\": \"system\",\n",
        "                \"content\": [{\"type\": \"text\", \"text\": system_instruction}]\n",
        "            },\n",
        "            {\n",
        "                \"role\": \"user\",\n",
        "                \"content\": [\n",
        "                    {\"type\": \"text\", \"text\": user_prompt}\n",
        "                ]\n",
        "            }\n",
        "        ]\n",
        "      return messages,max_tokens\n",
        "\n",
        "    except Exception as e:\n",
        "      logger.error(f\"Error preprocessing the input data: {str(e)}\")\n",
        "\n",
        "  def load_context(self, context):\n",
        "    try:\n",
        "        # config = AutoConfig.from_pretrained(context.artifacts['model_path'])\n",
        "        # tokenizer = AutoTokenizer.from_pretrained(context.artifacts['model_path'])\n",
        "        # processor = AutoProcessor.from_pretrained(context.artifacts['model_path'])\n",
        "        # model = Gemma3ForConditionalGeneration(config)\n",
        "        # state_dict = torch.load(os.path.join(context.artifacts['model_path'], \"pytorch_model.bin\"), map_location=\"cpu\")\n",
        "        # model.load_state_dict(state_dict)\n",
        "\n",
        "        # # Instantiate BitsAndBytesConfig locally\n",
        "        # quant_config = BitsAndBytesConfig(load_in_4bit=True)\n",
        "\n",
        "        # self.model = pipeline(\n",
        "        #     \"image-text-to-text\",\n",
        "        #     model=model,\n",
        "        #     tokenizer=tokenizer,\n",
        "        #     processor=processor,\n",
        "        #     model_kwargs={\n",
        "        #         \"torch_dtype\": torch.bfloat16,\n",
        "        #         \"device_map\": \"auto\",\n",
        "        #         \"quantization_config\": quant_config,\n",
        "        #     }\n",
        "        # )\n",
        "        quant_config = BitsAndBytesConfig(load_in_4bit=True)\n",
        "        self.model = pipeline(\n",
        "            'image-text-to-text',\n",
        "            model=context.artifacts['model'],  # should point to folder with pretrained files\n",
        "            torch_dtype=torch.bfloat16,\n",
        "            device_map=\"auto\",\n",
        "            model_kwargs={\n",
        "                \"quantization_config\": quant_config,\n",
        "            }\n",
        "        )\n",
        "    except Exception as e:\n",
        "        logger.error(f\"Error loading the image-text-to-text pipeline: {str(e)}\")\n",
        "\n",
        "  def predict(self, context, model_input, params):\n",
        "    \"\"\"\n",
        "    Runs inference using the loaded model and input data.\n",
        "\n",
        "    Args:\n",
        "        context: The MLflow context object\n",
        "            with access to artifacts.\n",
        "        model_input: A dictionary containing 'context' and 'question' keys.\n",
        "\n",
        "    Returns:\n",
        "        The output from the model containing the predicted answer and optionally the score.\n",
        "    \"\"\"\n",
        "    try:\n",
        "      messages,max_tokens = self._preprocess(model_input)\n",
        "      output = self.model(text=messages, max_new_tokens=max_tokens)\n",
        "      output = output[0][\"generated_text\"][-1][\"content\"]\n",
        "      return output\n",
        "    except Exception as e:\n",
        "      logger.error(f\"Error running inference: {str(e)}\")\n",
        "\n",
        "  @classmethod\n",
        "  def log_model(cls, model_name, source_pipeline=None,demo_folder=\"../demo\"):\n",
        "    #define the schema for the model\n",
        "    try:\n",
        "      input_schema = Schema(\n",
        "          [\n",
        "              ColSpec(\"string\", \"user_prompt\"),\n",
        "              ColSpec(\"string\", \"system_instruction\"),\n",
        "              ColSpec(\"string\", \"image\"),\n",
        "              ColSpec(\"integer\", \"max_tokens\"),\n",
        "          ]\n",
        "      )\n",
        "      output_schema = Schema([ColSpec(\"string\",\"answer\")])\n",
        "\n",
        "      signature = ModelSignature(inputs=input_schema, outputs=output_schema)\n",
        "      if source_pipeline:\n",
        "        os.makedirs(model_name, exist_ok=True)\n",
        "\n",
        "        # Save model and tokenizer properly\n",
        "        source_pipeline.model.save_pretrained(model_name, safe_serialization=True)\n",
        "        source_pipeline.tokenizer.save_pretrained(model_name)\n",
        "        if hasattr(source_pipeline, \"processor\"):\n",
        "            source_pipeline.processor.save_pretrained(model_name)\n",
        "      # Log model via MLflow pyfunc\n",
        "      mlflow.pyfunc.log_model(\n",
        "          artifact_path=model_name,\n",
        "          python_model=cls(),\n",
        "          artifacts={\"model\": model_name, \"demo\": demo_folder},\n",
        "          signature=signature,\n",
        "          pip_requirements=[\n",
        "              \"transformers==4.52.4\",\n",
        "              \"bitsandbytes==0.46.0\",\n",
        "              \"torch\",\n",
        "              \"pillow\",\n",
        "          ],\n",
        "      )\n",
        "      requirements = [\n",
        "          \"bitsandbytes==0.46.0\",\n",
        "          \"transformers==4.52.4\"\n",
        "      ]\n",
        "      shutil.rmtree(model_name)\n",
        "      logger.info(\"Logging model to MLflow done successfully\")\n",
        "    except Exception as e:\n",
        "      logger.error(f\"Error logging model to MLflow: {str(e)}\")\n",
        "\n"
      ]
    },
    {
      "cell_type": "markdown",
      "metadata": {
        "id": "c7wsqLQXhWAk"
      },
      "source": [
        "# MODEL REGISTRY"
      ]
    },
    {
      "cell_type": "code",
      "execution_count": 10,
      "metadata": {
        "colab": {
          "base_uri": "https://localhost:8080/"
        },
        "id": "lrpkk35MhXcm",
        "outputId": "56d93510-9264-439a-b835-1f7fc14d59a4"
      },
      "outputs": [
        {
          "data": {
            "text/plain": [
              "<Experiment: artifact_location='/phoenix/mlflow/310480675827085248', creation_time=1749484917617, experiment_id='310480675827085248', last_update_time=1749484917617, lifecycle_stage='active', name='Medgemma bot', tags={}>"
            ]
          },
          "execution_count": 10,
          "metadata": {},
          "output_type": "execute_result"
        }
      ],
      "source": [
        "mlflow.set_tracking_uri('/phoenix/mlflow')\n",
        "mlflow.set_experiment(experiment_name = EXPERIMENT_NAME)"
      ]
    },
    {
      "cell_type": "code",
      "execution_count": 18,
      "metadata": {
        "id": "ooWaJ1_LLqu-"
      },
      "outputs": [],
      "source": [
        "import pandas as pd\n",
        "import numpy as np\n",
        "from mlflow.models import infer_signature\n",
        "\n",
        "example_input = pd.DataFrame({\n",
        "    \"user_prompt\": [\"what is a lesion?\"],              # required\n",
        "    \"system_instruction\": [None],                      # optional\n",
        "    \"image\": [None],                                   # optional\n",
        "    \"max_tokens\": [np.nan]                             # optional\n",
        "})\n",
        "\n",
        "signature = infer_signature(model_input=example_input)"
      ]
    },
    {
      "cell_type": "code",
      "execution_count": 11,
      "metadata": {
        "colab": {
          "base_uri": "https://localhost:8080/",
          "height": 200,
          "referenced_widgets": [
            "ea83554788e8471bb488e964d60f375d",
            "370e367862484aafaa026887b23ef505",
            "ce1fc3bff19c4eeaabd40f8be940d839",
            "f10a31c184d64c5fa4acafce10b5ddf2",
            "7a210bbd591245a78b6a13530933e75c",
            "678f84baf849495c8040750c9b8e1215",
            "fdbcd9e14da142b3bbeda9ff61d7c99d",
            "cf9103e7be074932b35a7eb418bb91fb",
            "d4eb5051b48a4a4891c82dc0d97812c0",
            "347408c2829845faa4e9eba5b4b65549",
            "964736352fd54b0cbbbb8100ebb40c98",
            "f1ad628af7404f3386cf219fd3bb5c3b",
            "a01e173382004ba9b72198131fc1d629",
            "93f2c698bacb40f59b0276cf4b37d243",
            "5e07c6ebc9e14646817e38a1d8b76365",
            "fe4c82345b444fe1987171c3b825dbc1",
            "07e53cbea69c4c1098605234cc8a50e7",
            "61f0af3d83f7469baf4ab10aad6aa20a",
            "08dc72908c0a49fca05be7f0d6770015",
            "cfa917d5778247c28fbbd075fd0b9ad7",
            "ef0cb2f2d00841db8d932566e26dd34f",
            "b12c15e6846c40a8b61128889b8a2bd0",
            "20bc5baaa9a741a1a001dfde5f6b11d7",
            "84dcada8f8be46338b003c2e648994b4",
            "2f4436cf4c2f42b485ad534c5afdaff3",
            "d3caa3880bd443a09773195474781a0a",
            "0cfdbcbda8c341e39c1630214e4ed68d",
            "44485b6af7b741eeb29300e2b1e53019",
            "c73eaa3eb86e4477a1d795841775c772",
            "7ba4e79e83ee4bceac5c3f4826d8932c",
            "a64ade1af5964b669512d910569f21b4",
            "d3c7cdefe3794e548ac123e53ffec0b1",
            "a9addfe3f6014fcc90eabec05e6b1233"
          ]
        },
        "id": "wXQGLvUahdEW",
        "outputId": "a05bad1c-a847-4aa7-f965-54a2c3bda857"
      },
      "outputs": [
        {
          "name": "stderr",
          "output_type": "stream",
          "text": [
            "2025-06-09 19:14:32 - INFO - Run's Artifact URI: /phoenix/mlflow/310480675827085248/b9c0202d6cc74389b7d3c61139aac79d/artifacts\n"
          ]
        },
        {
          "data": {
            "application/vnd.jupyter.widget-view+json": {
              "model_id": "ea83554788e8471bb488e964d60f375d",
              "version_major": 2,
              "version_minor": 0
            },
            "text/plain": [
              "Loading checkpoint shards:   0%|          | 0/4 [00:00<?, ?it/s]"
            ]
          },
          "metadata": {},
          "output_type": "display_data"
        },
        {
          "name": "stderr",
          "output_type": "stream",
          "text": [
            "Device set to use cuda:0\n"
          ]
        },
        {
          "data": {
            "application/vnd.jupyter.widget-view+json": {
              "model_id": "f1ad628af7404f3386cf219fd3bb5c3b",
              "version_major": 2,
              "version_minor": 0
            },
            "text/plain": [
              "Downloading artifacts:   0%|          | 0/15 [00:00<?, ?it/s]"
            ]
          },
          "metadata": {},
          "output_type": "display_data"
        },
        {
          "data": {
            "application/vnd.jupyter.widget-view+json": {
              "model_id": "20bc5baaa9a741a1a001dfde5f6b11d7",
              "version_major": 2,
              "version_minor": 0
            },
            "text/plain": [
              "Downloading artifacts:   0%|          | 0/4 [00:00<?, ?it/s]"
            ]
          },
          "metadata": {},
          "output_type": "display_data"
        },
        {
          "name": "stderr",
          "output_type": "stream",
          "text": [
            "2025-06-09 19:20:33 - INFO - Logging model to MLflow done successfully\n",
            "Registered model 'MEDGEMMA' already exists. Creating a new version of this model...\n",
            "Created version '7' of model 'MEDGEMMA'.\n"
          ]
        }
      ],
      "source": [
        "with mlflow.start_run(run_name= RUN_NAME) as run:\n",
        "    logger.info(f\"Run's Artifact URI: {run.info.artifact_uri}\")\n",
        "    MedGemmaModel.log_model(model_name = MODEL_NAME, source_pipeline=pipe,demo_folder='/content/demo')\n",
        "    mlflow.register_model(model_uri = f\"runs:/{run.info.run_id}/{MODEL_NAME}\", name = NAME)"
      ]
    },
    {
      "cell_type": "markdown",
      "metadata": {
        "id": "1808zqcwhz_v"
      },
      "source": [
        "# TESTING LATEST MODEL REGISTERED"
      ]
    },
    {
      "cell_type": "code",
      "execution_count": 12,
      "metadata": {
        "colab": {
          "base_uri": "https://localhost:8080/"
        },
        "id": "rukiqpKFhzdK",
        "outputId": "ae4a529e-7856-4ffa-8608-85cca4b86880"
      },
      "outputs": [
        {
          "name": "stdout",
          "output_type": "stream",
          "text": [
            "[<ModelVersion: aliases=[], creation_timestamp=1749496833130, current_stage='None', description=None, last_updated_timestamp=1749496833130, name='MEDGEMMA', run_id='b9c0202d6cc74389b7d3c61139aac79d', run_link=None, source='/phoenix/mlflow/310480675827085248/b9c0202d6cc74389b7d3c61139aac79d/artifacts/MEDGEMMA', status='READY', status_message=None, tags={}, user_id=None, version=7>]\n",
            "7 inputs: \n",
            "  ['user_prompt': string (required), 'system_instruction': string (required), 'image': string (required), 'max_tokens': integer (required)]\n",
            "outputs: \n",
            "  ['answer': string (required)]\n",
            "params: \n",
            "  None\n",
            "\n"
          ]
        }
      ],
      "source": [
        "client = mlflow.MlflowClient()\n",
        "model_metadata = client.get_latest_versions('MEDGEMMA', stages=[\"None\"])\n",
        "print(model_metadata)\n",
        "latest_model_version = model_metadata[0].version\n",
        "print(latest_model_version, mlflow.models.get_model_info(f\"models:/MEDGEMMA/{latest_model_version}\").signature)"
      ]
    },
    {
      "cell_type": "code",
      "execution_count": 13,
      "metadata": {
        "colab": {
          "base_uri": "https://localhost:8080/",
          "height": 101,
          "referenced_widgets": [
            "3f7248b519554987b6f848b4d1e6715f",
            "5b8107d8e93349b2b1d513aa01a9f879",
            "14f5d1b6629145e4a1e58f3f202d3d87",
            "419cc0d308024202b2b66cda6f994c31",
            "7bcce58f834c4418a1f2176f19bc949c",
            "f639d15302384c8ba8e5a06c4c910579",
            "dd820fede2f94c5a95799e23c85518ec",
            "6c8c0d6e3c254cb09018269b555929c3",
            "2675b936ce014f659ddfac8f83defe07",
            "65e4a1f72560410c8b2678f4236112e4",
            "77ac7b7233da402dae184ab383c847b0"
          ]
        },
        "id": "V_PLJxxjLZv0",
        "outputId": "4f07497b-c205-4d66-ea52-0883382547d5"
      },
      "outputs": [
        {
          "data": {
            "application/vnd.jupyter.widget-view+json": {
              "model_id": "3f7248b519554987b6f848b4d1e6715f",
              "version_major": 2,
              "version_minor": 0
            },
            "text/plain": [
              "Loading checkpoint shards:   0%|          | 0/4 [00:00<?, ?it/s]"
            ]
          },
          "metadata": {},
          "output_type": "display_data"
        },
        {
          "name": "stderr",
          "output_type": "stream",
          "text": [
            "Device set to use cuda:0\n",
            "Setting `pad_token_id` to `eos_token_id`:1 for open-end generation.\n"
          ]
        },
        {
          "name": "stdout",
          "output_type": "stream",
          "text": [
            "pre processing what is a \n"
          ]
        }
      ],
      "source": [
        "import pandas as pd\n",
        "import numpy as np\n",
        "model = mlflow.pyfunc.load_model(model_uri=f\"models:/MEDGEMMA/{latest_model_version}\")\n",
        "input_df = pd.DataFrame({\n",
        "    \"user_prompt\": [\"what is a lesion?\"],\n",
        "    \"system_instruction\": [\"\"],\n",
        "    \"image\": [\"\"],\n",
        "    \"max_tokens\": np.array([1000], dtype=np.int32)  # 👈 force int32\n",
        "})\n",
        "\n",
        "# Predict\n",
        "response = model.predict(input_df)"
      ]
    },
    {
      "cell_type": "code",
      "execution_count": 14,
      "metadata": {
        "colab": {
          "base_uri": "https://localhost:8080/",
          "height": 105
        },
        "id": "nwTpGp4mgwpl",
        "outputId": "bed298e2-ec61-4a87-a5e1-77189c912b34"
      },
      "outputs": [
        {
          "data": {
            "application/vnd.google.colaboratory.intrinsic+json": {
              "type": "string"
            },
            "text/plain": [
              "'Okay, as an excellent medical expert, let me define the term \"lesion\" as it applies to medical contexts.\\n\\nA **lesion** is a general term used to describe any abnormal change in the structure or function of a part of the body.  This can encompass a wide variety of conditions, depending on the location, cause, and appearance of the abnormality.\\n\\nHere\\'s a more detailed breakdown:\\n\\n*   **Definition:** A lesion refers to an area of damage or abnormal change in tissue, whether it is a result of disease, injury, or other factors.\\n\\n*   **Key Characteristics:** The defining characteristic of a lesion is that it\\'s an **abnormality**.\\n\\n*   **Types of Lesions:** There are numerous types of lesions, categorized by their origin, appearance, and behavior. Common examples include:\\n\\n    *   **Skin Lesions:** These are lesions that occur on the skin. Examples include:\\n        *   **Macules:** Flat, discolored spots (e.g., freckles, moles).\\n        *   **Papules:** Small, raised, solid bumps (e.g., warts, small pimples).\\n        *   **Plaques:** Raised, flat lesions (e.g., psoriasis).\\n        *   **Nodules:** Firm, round, and raised lesions that are usually found beneath the skin surface (e.g., skin cancer).\\n        *   **Cysts:** Sacs that are filled with liquid or semi-solid material.\\n        *   **Ulcers:** Open sores, often with a surrounding red area (e.g., diabetic ulcers).\\n        *   **Hives (Urticaria):** Raised, itchy welts that can appear suddenly.\\n        *   **Petechiae:** Small, pinpoint-sized red or purple spots, often due to bleeding under the skin.\\n        *   **Scarring:** Changes in the skin\\'s appearance after injury or surgery.\\n\\n    *   **Internal Lesions:** These occur within organs or tissues. Examples include:\\n        *   **Tumors:** Abnormal growths of cells. These can be benign (non-cancerous) or malignant (cancerous).\\n        *   **Infections:** Areas of tissue damaged by infection (e.g., abscesses, cellulitis).\\n        *   **Inflammation:** Areas of tissue damaged by inflammation (e.g., from rheumatoid arthritis).\\n        *   **Ischemia:** Areas of tissue damage due to insufficient blood supply.\\n        *   **Granulomas:** Collections of immune cells that form in response to infection or inflammation.\\n\\n*   **Causes:** Lesions can be caused by a wide variety of factors, including:\\n\\n    *   **Infections:** Bacteria, viruses, fungi, and parasites can all cause lesions.\\n    *   **Trauma:** Injury from accidents, falls, or other physical forces.\\n    *   **Autoimmune Diseases:** Conditions in which the body\\'s immune system attacks its own tissues, leading to inflammation and lesions.\\n    *   **Genetic Factors:** Inherited genetic predispositions can increase the risk of certain types of lesions, such as skin cancers.\\n    *   **Environmental Factors:** Exposure to certain chemicals or radiation can cause lesions.\\n    *   **Poor Lifestyle Choices:** Smoking, poor diet, and lack of exercise can all contribute to the development of lesions.\\n\\n*   **Diagnosis:** Diagnosing a lesion involves a physical examination, often with the use of specialized tools such as a dermatoscope (for skin lesions) or imaging techniques like ultrasound, CT scans, or MRI.  Sometimes a biopsy is needed to collect a tissue sample for further analysis.\\n\\n*   **Treatment:** Treatment depends on the type, cause, and location of the lesion. It may involve:\\n\\n    *   **Topical Medications:** Creams, ointments, or gels applied to the skin.\\n    *   **Oral Medications:** Pills or liquids taken by mouth.\\n    *   **Surgery:** Removing the lesion with a scalpel or other surgical instruments.\\n    *   **Radiation Therapy:** Using high-energy radiation to kill cancer cells.\\n    *   **Chemotherapy:** Using drugs to kill cancer cells.\\n    *   **Lifestyle Modifications:** Changes in diet, exercise, or other habits that can help to prevent or treat certain lesions.\\n\\n*   **Importance of Evaluation:** It is crucial to have any new or changing lesion evaluated by a medical professional to determine the cause and appropriate treatment.  Self-diagnosing or ignoring lesions can be dangerous, as they can sometimes be a sign of a serious underlying condition.\\n\\n**In summary:** A lesion is a broad term for any abnormal change in the structure or function of the body. The specific meaning of \"lesion\" depends on its location'"
            ]
          },
          "execution_count": 14,
          "metadata": {},
          "output_type": "execute_result"
        }
      ],
      "source": [
        "response"
      ]
    },
    {
      "cell_type": "code",
      "execution_count": 19,
      "metadata": {
        "colab": {
          "base_uri": "https://localhost:8080/"
        },
        "id": "nAP5e2IRlwpX",
        "outputId": "a44b58c9-d374-4e45-b294-4bb0e21fc1a1"
      },
      "outputs": [
        {
          "name": "stdout",
          "output_type": "stream",
          "text": [
            "/usr/local/lib/python3.11/dist-packages/click/core.py:2355: UserWarning: Use of conda is discouraged. If you use it, please ensure that your use of conda complies with Anaconda's terms of service (https://legal.anaconda.com/policies/en/?name=terms-of-service). virtualenv is the recommended tool for environment reproducibility. To suppress this warning, set the MLFLOW_DISABLE_ENV_MANAGER_CONDA_WARNING environment variable to 'TRUE'.\n",
            "  value = self.callback(ctx, self, value)\n",
            "Downloading artifacts:  84% 21/25 [01:07<00:12,  3.23s/it]\n",
            "^C\n"
          ]
        }
      ],
      "source": [
        "!mlflow models serve -m /phoenix/mlflow/310480675827085248/f70dcb4963b149c98c37318afa93bfd4/artifacts/MEDGEMMA --env-manager conda --port 5004"
      ]
    },
    {
      "cell_type": "markdown",
      "metadata": {
        "id": "LGUVSEjwh7_b"
      },
      "source": []
    },
    {
      "cell_type": "markdown",
      "metadata": {
        "id": "LMQt2Sv0h785"
      },
      "source": []
    }
  ],
  "metadata": {
    "accelerator": "GPU",
    "colab": {
      "gpuType": "A100",
      "machine_shape": "hm",
      "provenance": []
    },
    "kernelspec": {
      "display_name": "Python 3",
      "name": "python3"
    },
    "language_info": {
      "name": "python"
    },
    "widgets": {
      "application/vnd.jupyter.widget-state+json": {
        "019b004144b445a190630abd4952c443": {
          "model_module": "@jupyter-widgets/base",
          "model_module_version": "1.2.0",
          "model_name": "LayoutModel",
          "state": {
            "_model_module": "@jupyter-widgets/base",
            "_model_module_version": "1.2.0",
            "_model_name": "LayoutModel",
            "_view_count": null,
            "_view_module": "@jupyter-widgets/base",
            "_view_module_version": "1.2.0",
            "_view_name": "LayoutView",
            "align_content": null,
            "align_items": null,
            "align_self": null,
            "border": null,
            "bottom": null,
            "display": null,
            "flex": null,
            "flex_flow": null,
            "grid_area": null,
            "grid_auto_columns": null,
            "grid_auto_flow": null,
            "grid_auto_rows": null,
            "grid_column": null,
            "grid_gap": null,
            "grid_row": null,
            "grid_template_areas": null,
            "grid_template_columns": null,
            "grid_template_rows": null,
            "height": null,
            "justify_content": null,
            "justify_items": null,
            "left": null,
            "margin": null,
            "max_height": null,
            "max_width": null,
            "min_height": null,
            "min_width": null,
            "object_fit": null,
            "object_position": null,
            "order": null,
            "overflow": null,
            "overflow_x": null,
            "overflow_y": null,
            "padding": null,
            "right": null,
            "top": null,
            "visibility": null,
            "width": null
          }
        },
        "07e53cbea69c4c1098605234cc8a50e7": {
          "model_module": "@jupyter-widgets/base",
          "model_module_version": "1.2.0",
          "model_name": "LayoutModel",
          "state": {
            "_model_module": "@jupyter-widgets/base",
            "_model_module_version": "1.2.0",
            "_model_name": "LayoutModel",
            "_view_count": null,
            "_view_module": "@jupyter-widgets/base",
            "_view_module_version": "1.2.0",
            "_view_name": "LayoutView",
            "align_content": null,
            "align_items": null,
            "align_self": null,
            "border": null,
            "bottom": null,
            "display": null,
            "flex": null,
            "flex_flow": null,
            "grid_area": null,
            "grid_auto_columns": null,
            "grid_auto_flow": null,
            "grid_auto_rows": null,
            "grid_column": null,
            "grid_gap": null,
            "grid_row": null,
            "grid_template_areas": null,
            "grid_template_columns": null,
            "grid_template_rows": null,
            "height": null,
            "justify_content": null,
            "justify_items": null,
            "left": null,
            "margin": null,
            "max_height": null,
            "max_width": null,
            "min_height": null,
            "min_width": null,
            "object_fit": null,
            "object_position": null,
            "order": null,
            "overflow": null,
            "overflow_x": null,
            "overflow_y": null,
            "padding": null,
            "right": null,
            "top": null,
            "visibility": null,
            "width": null
          }
        },
        "08dc72908c0a49fca05be7f0d6770015": {
          "model_module": "@jupyter-widgets/base",
          "model_module_version": "1.2.0",
          "model_name": "LayoutModel",
          "state": {
            "_model_module": "@jupyter-widgets/base",
            "_model_module_version": "1.2.0",
            "_model_name": "LayoutModel",
            "_view_count": null,
            "_view_module": "@jupyter-widgets/base",
            "_view_module_version": "1.2.0",
            "_view_name": "LayoutView",
            "align_content": null,
            "align_items": null,
            "align_self": null,
            "border": null,
            "bottom": null,
            "display": null,
            "flex": null,
            "flex_flow": null,
            "grid_area": null,
            "grid_auto_columns": null,
            "grid_auto_flow": null,
            "grid_auto_rows": null,
            "grid_column": null,
            "grid_gap": null,
            "grid_row": null,
            "grid_template_areas": null,
            "grid_template_columns": null,
            "grid_template_rows": null,
            "height": null,
            "justify_content": null,
            "justify_items": null,
            "left": null,
            "margin": null,
            "max_height": null,
            "max_width": null,
            "min_height": null,
            "min_width": null,
            "object_fit": null,
            "object_position": null,
            "order": null,
            "overflow": null,
            "overflow_x": null,
            "overflow_y": null,
            "padding": null,
            "right": null,
            "top": null,
            "visibility": null,
            "width": null
          }
        },
        "0bbe2288b8cc40eb810ff55becc56c4d": {
          "model_module": "@jupyter-widgets/controls",
          "model_module_version": "1.5.0",
          "model_name": "DescriptionStyleModel",
          "state": {
            "_model_module": "@jupyter-widgets/controls",
            "_model_module_version": "1.5.0",
            "_model_name": "DescriptionStyleModel",
            "_view_count": null,
            "_view_module": "@jupyter-widgets/base",
            "_view_module_version": "1.2.0",
            "_view_name": "StyleView",
            "description_width": ""
          }
        },
        "0cfdbcbda8c341e39c1630214e4ed68d": {
          "model_module": "@jupyter-widgets/base",
          "model_module_version": "1.2.0",
          "model_name": "LayoutModel",
          "state": {
            "_model_module": "@jupyter-widgets/base",
            "_model_module_version": "1.2.0",
            "_model_name": "LayoutModel",
            "_view_count": null,
            "_view_module": "@jupyter-widgets/base",
            "_view_module_version": "1.2.0",
            "_view_name": "LayoutView",
            "align_content": null,
            "align_items": null,
            "align_self": null,
            "border": null,
            "bottom": null,
            "display": null,
            "flex": null,
            "flex_flow": null,
            "grid_area": null,
            "grid_auto_columns": null,
            "grid_auto_flow": null,
            "grid_auto_rows": null,
            "grid_column": null,
            "grid_gap": null,
            "grid_row": null,
            "grid_template_areas": null,
            "grid_template_columns": null,
            "grid_template_rows": null,
            "height": null,
            "justify_content": null,
            "justify_items": null,
            "left": null,
            "margin": null,
            "max_height": null,
            "max_width": null,
            "min_height": null,
            "min_width": null,
            "object_fit": null,
            "object_position": null,
            "order": null,
            "overflow": null,
            "overflow_x": null,
            "overflow_y": null,
            "padding": null,
            "right": null,
            "top": null,
            "visibility": null,
            "width": null
          }
        },
        "0dc06059d5164d43895828888f38fe7c": {
          "model_module": "@jupyter-widgets/base",
          "model_module_version": "1.2.0",
          "model_name": "LayoutModel",
          "state": {
            "_model_module": "@jupyter-widgets/base",
            "_model_module_version": "1.2.0",
            "_model_name": "LayoutModel",
            "_view_count": null,
            "_view_module": "@jupyter-widgets/base",
            "_view_module_version": "1.2.0",
            "_view_name": "LayoutView",
            "align_content": null,
            "align_items": null,
            "align_self": null,
            "border": null,
            "bottom": null,
            "display": null,
            "flex": null,
            "flex_flow": null,
            "grid_area": null,
            "grid_auto_columns": null,
            "grid_auto_flow": null,
            "grid_auto_rows": null,
            "grid_column": null,
            "grid_gap": null,
            "grid_row": null,
            "grid_template_areas": null,
            "grid_template_columns": null,
            "grid_template_rows": null,
            "height": null,
            "justify_content": null,
            "justify_items": null,
            "left": null,
            "margin": null,
            "max_height": null,
            "max_width": null,
            "min_height": null,
            "min_width": null,
            "object_fit": null,
            "object_position": null,
            "order": null,
            "overflow": null,
            "overflow_x": null,
            "overflow_y": null,
            "padding": null,
            "right": null,
            "top": null,
            "visibility": null,
            "width": null
          }
        },
        "14f5d1b6629145e4a1e58f3f202d3d87": {
          "model_module": "@jupyter-widgets/controls",
          "model_module_version": "1.5.0",
          "model_name": "FloatProgressModel",
          "state": {
            "_dom_classes": [],
            "_model_module": "@jupyter-widgets/controls",
            "_model_module_version": "1.5.0",
            "_model_name": "FloatProgressModel",
            "_view_count": null,
            "_view_module": "@jupyter-widgets/controls",
            "_view_module_version": "1.5.0",
            "_view_name": "ProgressView",
            "bar_style": "success",
            "description": "",
            "description_tooltip": null,
            "layout": "IPY_MODEL_6c8c0d6e3c254cb09018269b555929c3",
            "max": 4,
            "min": 0,
            "orientation": "horizontal",
            "style": "IPY_MODEL_2675b936ce014f659ddfac8f83defe07",
            "value": 4
          }
        },
        "20bc5baaa9a741a1a001dfde5f6b11d7": {
          "model_module": "@jupyter-widgets/controls",
          "model_module_version": "1.5.0",
          "model_name": "HBoxModel",
          "state": {
            "_dom_classes": [],
            "_model_module": "@jupyter-widgets/controls",
            "_model_module_version": "1.5.0",
            "_model_name": "HBoxModel",
            "_view_count": null,
            "_view_module": "@jupyter-widgets/controls",
            "_view_module_version": "1.5.0",
            "_view_name": "HBoxView",
            "box_style": "",
            "children": [
              "IPY_MODEL_84dcada8f8be46338b003c2e648994b4",
              "IPY_MODEL_2f4436cf4c2f42b485ad534c5afdaff3",
              "IPY_MODEL_d3caa3880bd443a09773195474781a0a"
            ],
            "layout": "IPY_MODEL_0cfdbcbda8c341e39c1630214e4ed68d"
          }
        },
        "2675b936ce014f659ddfac8f83defe07": {
          "model_module": "@jupyter-widgets/controls",
          "model_module_version": "1.5.0",
          "model_name": "ProgressStyleModel",
          "state": {
            "_model_module": "@jupyter-widgets/controls",
            "_model_module_version": "1.5.0",
            "_model_name": "ProgressStyleModel",
            "_view_count": null,
            "_view_module": "@jupyter-widgets/base",
            "_view_module_version": "1.2.0",
            "_view_name": "StyleView",
            "bar_color": null,
            "description_width": ""
          }
        },
        "2ad904bda67e4df782d123155ce027ea": {
          "model_module": "@jupyter-widgets/controls",
          "model_module_version": "1.5.0",
          "model_name": "HBoxModel",
          "state": {
            "_dom_classes": [],
            "_model_module": "@jupyter-widgets/controls",
            "_model_module_version": "1.5.0",
            "_model_name": "HBoxModel",
            "_view_count": null,
            "_view_module": "@jupyter-widgets/controls",
            "_view_module_version": "1.5.0",
            "_view_name": "HBoxView",
            "box_style": "",
            "children": [
              "IPY_MODEL_323b01c20a9c4892825dc13f911f844e",
              "IPY_MODEL_6b1f32998c5d4747b9157600bb29ced4",
              "IPY_MODEL_ebda284cdf034437b47ce59beb21be3c"
            ],
            "layout": "IPY_MODEL_2b0cadc2bb4d4c8fb0781c0559944487"
          }
        },
        "2b0cadc2bb4d4c8fb0781c0559944487": {
          "model_module": "@jupyter-widgets/base",
          "model_module_version": "1.2.0",
          "model_name": "LayoutModel",
          "state": {
            "_model_module": "@jupyter-widgets/base",
            "_model_module_version": "1.2.0",
            "_model_name": "LayoutModel",
            "_view_count": null,
            "_view_module": "@jupyter-widgets/base",
            "_view_module_version": "1.2.0",
            "_view_name": "LayoutView",
            "align_content": null,
            "align_items": null,
            "align_self": null,
            "border": null,
            "bottom": null,
            "display": null,
            "flex": null,
            "flex_flow": null,
            "grid_area": null,
            "grid_auto_columns": null,
            "grid_auto_flow": null,
            "grid_auto_rows": null,
            "grid_column": null,
            "grid_gap": null,
            "grid_row": null,
            "grid_template_areas": null,
            "grid_template_columns": null,
            "grid_template_rows": null,
            "height": null,
            "justify_content": null,
            "justify_items": null,
            "left": null,
            "margin": null,
            "max_height": null,
            "max_width": null,
            "min_height": null,
            "min_width": null,
            "object_fit": null,
            "object_position": null,
            "order": null,
            "overflow": null,
            "overflow_x": null,
            "overflow_y": null,
            "padding": null,
            "right": null,
            "top": null,
            "visibility": null,
            "width": null
          }
        },
        "2b3369b4ce274fe782119588fa432b3a": {
          "model_module": "@jupyter-widgets/controls",
          "model_module_version": "1.5.0",
          "model_name": "ProgressStyleModel",
          "state": {
            "_model_module": "@jupyter-widgets/controls",
            "_model_module_version": "1.5.0",
            "_model_name": "ProgressStyleModel",
            "_view_count": null,
            "_view_module": "@jupyter-widgets/base",
            "_view_module_version": "1.2.0",
            "_view_name": "StyleView",
            "bar_color": null,
            "description_width": ""
          }
        },
        "2f4436cf4c2f42b485ad534c5afdaff3": {
          "model_module": "@jupyter-widgets/controls",
          "model_module_version": "1.5.0",
          "model_name": "FloatProgressModel",
          "state": {
            "_dom_classes": [],
            "_model_module": "@jupyter-widgets/controls",
            "_model_module_version": "1.5.0",
            "_model_name": "FloatProgressModel",
            "_view_count": null,
            "_view_module": "@jupyter-widgets/controls",
            "_view_module_version": "1.5.0",
            "_view_name": "ProgressView",
            "bar_style": "success",
            "description": "",
            "description_tooltip": null,
            "layout": "IPY_MODEL_7ba4e79e83ee4bceac5c3f4826d8932c",
            "max": 4,
            "min": 0,
            "orientation": "horizontal",
            "style": "IPY_MODEL_a64ade1af5964b669512d910569f21b4",
            "value": 4
          }
        },
        "323b01c20a9c4892825dc13f911f844e": {
          "model_module": "@jupyter-widgets/controls",
          "model_module_version": "1.5.0",
          "model_name": "HTMLModel",
          "state": {
            "_dom_classes": [],
            "_model_module": "@jupyter-widgets/controls",
            "_model_module_version": "1.5.0",
            "_model_name": "HTMLModel",
            "_view_count": null,
            "_view_module": "@jupyter-widgets/controls",
            "_view_module_version": "1.5.0",
            "_view_name": "HTMLView",
            "description": "",
            "description_tooltip": null,
            "layout": "IPY_MODEL_019b004144b445a190630abd4952c443",
            "placeholder": "​",
            "style": "IPY_MODEL_9649dad7e8394683b87e2515e817b045",
            "value": "Loading checkpoint shards: 100%"
          }
        },
        "347408c2829845faa4e9eba5b4b65549": {
          "model_module": "@jupyter-widgets/base",
          "model_module_version": "1.2.0",
          "model_name": "LayoutModel",
          "state": {
            "_model_module": "@jupyter-widgets/base",
            "_model_module_version": "1.2.0",
            "_model_name": "LayoutModel",
            "_view_count": null,
            "_view_module": "@jupyter-widgets/base",
            "_view_module_version": "1.2.0",
            "_view_name": "LayoutView",
            "align_content": null,
            "align_items": null,
            "align_self": null,
            "border": null,
            "bottom": null,
            "display": null,
            "flex": null,
            "flex_flow": null,
            "grid_area": null,
            "grid_auto_columns": null,
            "grid_auto_flow": null,
            "grid_auto_rows": null,
            "grid_column": null,
            "grid_gap": null,
            "grid_row": null,
            "grid_template_areas": null,
            "grid_template_columns": null,
            "grid_template_rows": null,
            "height": null,
            "justify_content": null,
            "justify_items": null,
            "left": null,
            "margin": null,
            "max_height": null,
            "max_width": null,
            "min_height": null,
            "min_width": null,
            "object_fit": null,
            "object_position": null,
            "order": null,
            "overflow": null,
            "overflow_x": null,
            "overflow_y": null,
            "padding": null,
            "right": null,
            "top": null,
            "visibility": null,
            "width": null
          }
        },
        "370e367862484aafaa026887b23ef505": {
          "model_module": "@jupyter-widgets/controls",
          "model_module_version": "1.5.0",
          "model_name": "HTMLModel",
          "state": {
            "_dom_classes": [],
            "_model_module": "@jupyter-widgets/controls",
            "_model_module_version": "1.5.0",
            "_model_name": "HTMLModel",
            "_view_count": null,
            "_view_module": "@jupyter-widgets/controls",
            "_view_module_version": "1.5.0",
            "_view_name": "HTMLView",
            "description": "",
            "description_tooltip": null,
            "layout": "IPY_MODEL_678f84baf849495c8040750c9b8e1215",
            "placeholder": "​",
            "style": "IPY_MODEL_fdbcd9e14da142b3bbeda9ff61d7c99d",
            "value": "Loading checkpoint shards: 100%"
          }
        },
        "3f7248b519554987b6f848b4d1e6715f": {
          "model_module": "@jupyter-widgets/controls",
          "model_module_version": "1.5.0",
          "model_name": "HBoxModel",
          "state": {
            "_dom_classes": [],
            "_model_module": "@jupyter-widgets/controls",
            "_model_module_version": "1.5.0",
            "_model_name": "HBoxModel",
            "_view_count": null,
            "_view_module": "@jupyter-widgets/controls",
            "_view_module_version": "1.5.0",
            "_view_name": "HBoxView",
            "box_style": "",
            "children": [
              "IPY_MODEL_5b8107d8e93349b2b1d513aa01a9f879",
              "IPY_MODEL_14f5d1b6629145e4a1e58f3f202d3d87",
              "IPY_MODEL_419cc0d308024202b2b66cda6f994c31"
            ],
            "layout": "IPY_MODEL_7bcce58f834c4418a1f2176f19bc949c"
          }
        },
        "419cc0d308024202b2b66cda6f994c31": {
          "model_module": "@jupyter-widgets/controls",
          "model_module_version": "1.5.0",
          "model_name": "HTMLModel",
          "state": {
            "_dom_classes": [],
            "_model_module": "@jupyter-widgets/controls",
            "_model_module_version": "1.5.0",
            "_model_name": "HTMLModel",
            "_view_count": null,
            "_view_module": "@jupyter-widgets/controls",
            "_view_module_version": "1.5.0",
            "_view_name": "HTMLView",
            "description": "",
            "description_tooltip": null,
            "layout": "IPY_MODEL_65e4a1f72560410c8b2678f4236112e4",
            "placeholder": "​",
            "style": "IPY_MODEL_77ac7b7233da402dae184ab383c847b0",
            "value": " 4/4 [01:20&lt;00:00, 18.48s/it]"
          }
        },
        "44485b6af7b741eeb29300e2b1e53019": {
          "model_module": "@jupyter-widgets/base",
          "model_module_version": "1.2.0",
          "model_name": "LayoutModel",
          "state": {
            "_model_module": "@jupyter-widgets/base",
            "_model_module_version": "1.2.0",
            "_model_name": "LayoutModel",
            "_view_count": null,
            "_view_module": "@jupyter-widgets/base",
            "_view_module_version": "1.2.0",
            "_view_name": "LayoutView",
            "align_content": null,
            "align_items": null,
            "align_self": null,
            "border": null,
            "bottom": null,
            "display": null,
            "flex": null,
            "flex_flow": null,
            "grid_area": null,
            "grid_auto_columns": null,
            "grid_auto_flow": null,
            "grid_auto_rows": null,
            "grid_column": null,
            "grid_gap": null,
            "grid_row": null,
            "grid_template_areas": null,
            "grid_template_columns": null,
            "grid_template_rows": null,
            "height": null,
            "justify_content": null,
            "justify_items": null,
            "left": null,
            "margin": null,
            "max_height": null,
            "max_width": null,
            "min_height": null,
            "min_width": null,
            "object_fit": null,
            "object_position": null,
            "order": null,
            "overflow": null,
            "overflow_x": null,
            "overflow_y": null,
            "padding": null,
            "right": null,
            "top": null,
            "visibility": null,
            "width": null
          }
        },
        "5b8107d8e93349b2b1d513aa01a9f879": {
          "model_module": "@jupyter-widgets/controls",
          "model_module_version": "1.5.0",
          "model_name": "HTMLModel",
          "state": {
            "_dom_classes": [],
            "_model_module": "@jupyter-widgets/controls",
            "_model_module_version": "1.5.0",
            "_model_name": "HTMLModel",
            "_view_count": null,
            "_view_module": "@jupyter-widgets/controls",
            "_view_module_version": "1.5.0",
            "_view_name": "HTMLView",
            "description": "",
            "description_tooltip": null,
            "layout": "IPY_MODEL_f639d15302384c8ba8e5a06c4c910579",
            "placeholder": "​",
            "style": "IPY_MODEL_dd820fede2f94c5a95799e23c85518ec",
            "value": "Loading checkpoint shards: 100%"
          }
        },
        "5e07c6ebc9e14646817e38a1d8b76365": {
          "model_module": "@jupyter-widgets/controls",
          "model_module_version": "1.5.0",
          "model_name": "HTMLModel",
          "state": {
            "_dom_classes": [],
            "_model_module": "@jupyter-widgets/controls",
            "_model_module_version": "1.5.0",
            "_model_name": "HTMLModel",
            "_view_count": null,
            "_view_module": "@jupyter-widgets/controls",
            "_view_module_version": "1.5.0",
            "_view_name": "HTMLView",
            "description": "",
            "description_tooltip": null,
            "layout": "IPY_MODEL_ef0cb2f2d00841db8d932566e26dd34f",
            "placeholder": "​",
            "style": "IPY_MODEL_b12c15e6846c40a8b61128889b8a2bd0",
            "value": " 15/15 [01:02&lt;00:00,  5.62s/it]"
          }
        },
        "61f0af3d83f7469baf4ab10aad6aa20a": {
          "model_module": "@jupyter-widgets/controls",
          "model_module_version": "1.5.0",
          "model_name": "DescriptionStyleModel",
          "state": {
            "_model_module": "@jupyter-widgets/controls",
            "_model_module_version": "1.5.0",
            "_model_name": "DescriptionStyleModel",
            "_view_count": null,
            "_view_module": "@jupyter-widgets/base",
            "_view_module_version": "1.2.0",
            "_view_name": "StyleView",
            "description_width": ""
          }
        },
        "65e4a1f72560410c8b2678f4236112e4": {
          "model_module": "@jupyter-widgets/base",
          "model_module_version": "1.2.0",
          "model_name": "LayoutModel",
          "state": {
            "_model_module": "@jupyter-widgets/base",
            "_model_module_version": "1.2.0",
            "_model_name": "LayoutModel",
            "_view_count": null,
            "_view_module": "@jupyter-widgets/base",
            "_view_module_version": "1.2.0",
            "_view_name": "LayoutView",
            "align_content": null,
            "align_items": null,
            "align_self": null,
            "border": null,
            "bottom": null,
            "display": null,
            "flex": null,
            "flex_flow": null,
            "grid_area": null,
            "grid_auto_columns": null,
            "grid_auto_flow": null,
            "grid_auto_rows": null,
            "grid_column": null,
            "grid_gap": null,
            "grid_row": null,
            "grid_template_areas": null,
            "grid_template_columns": null,
            "grid_template_rows": null,
            "height": null,
            "justify_content": null,
            "justify_items": null,
            "left": null,
            "margin": null,
            "max_height": null,
            "max_width": null,
            "min_height": null,
            "min_width": null,
            "object_fit": null,
            "object_position": null,
            "order": null,
            "overflow": null,
            "overflow_x": null,
            "overflow_y": null,
            "padding": null,
            "right": null,
            "top": null,
            "visibility": null,
            "width": null
          }
        },
        "678f84baf849495c8040750c9b8e1215": {
          "model_module": "@jupyter-widgets/base",
          "model_module_version": "1.2.0",
          "model_name": "LayoutModel",
          "state": {
            "_model_module": "@jupyter-widgets/base",
            "_model_module_version": "1.2.0",
            "_model_name": "LayoutModel",
            "_view_count": null,
            "_view_module": "@jupyter-widgets/base",
            "_view_module_version": "1.2.0",
            "_view_name": "LayoutView",
            "align_content": null,
            "align_items": null,
            "align_self": null,
            "border": null,
            "bottom": null,
            "display": null,
            "flex": null,
            "flex_flow": null,
            "grid_area": null,
            "grid_auto_columns": null,
            "grid_auto_flow": null,
            "grid_auto_rows": null,
            "grid_column": null,
            "grid_gap": null,
            "grid_row": null,
            "grid_template_areas": null,
            "grid_template_columns": null,
            "grid_template_rows": null,
            "height": null,
            "justify_content": null,
            "justify_items": null,
            "left": null,
            "margin": null,
            "max_height": null,
            "max_width": null,
            "min_height": null,
            "min_width": null,
            "object_fit": null,
            "object_position": null,
            "order": null,
            "overflow": null,
            "overflow_x": null,
            "overflow_y": null,
            "padding": null,
            "right": null,
            "top": null,
            "visibility": null,
            "width": null
          }
        },
        "6b1f32998c5d4747b9157600bb29ced4": {
          "model_module": "@jupyter-widgets/controls",
          "model_module_version": "1.5.0",
          "model_name": "FloatProgressModel",
          "state": {
            "_dom_classes": [],
            "_model_module": "@jupyter-widgets/controls",
            "_model_module_version": "1.5.0",
            "_model_name": "FloatProgressModel",
            "_view_count": null,
            "_view_module": "@jupyter-widgets/controls",
            "_view_module_version": "1.5.0",
            "_view_name": "ProgressView",
            "bar_style": "success",
            "description": "",
            "description_tooltip": null,
            "layout": "IPY_MODEL_0dc06059d5164d43895828888f38fe7c",
            "max": 2,
            "min": 0,
            "orientation": "horizontal",
            "style": "IPY_MODEL_2b3369b4ce274fe782119588fa432b3a",
            "value": 2
          }
        },
        "6c8c0d6e3c254cb09018269b555929c3": {
          "model_module": "@jupyter-widgets/base",
          "model_module_version": "1.2.0",
          "model_name": "LayoutModel",
          "state": {
            "_model_module": "@jupyter-widgets/base",
            "_model_module_version": "1.2.0",
            "_model_name": "LayoutModel",
            "_view_count": null,
            "_view_module": "@jupyter-widgets/base",
            "_view_module_version": "1.2.0",
            "_view_name": "LayoutView",
            "align_content": null,
            "align_items": null,
            "align_self": null,
            "border": null,
            "bottom": null,
            "display": null,
            "flex": null,
            "flex_flow": null,
            "grid_area": null,
            "grid_auto_columns": null,
            "grid_auto_flow": null,
            "grid_auto_rows": null,
            "grid_column": null,
            "grid_gap": null,
            "grid_row": null,
            "grid_template_areas": null,
            "grid_template_columns": null,
            "grid_template_rows": null,
            "height": null,
            "justify_content": null,
            "justify_items": null,
            "left": null,
            "margin": null,
            "max_height": null,
            "max_width": null,
            "min_height": null,
            "min_width": null,
            "object_fit": null,
            "object_position": null,
            "order": null,
            "overflow": null,
            "overflow_x": null,
            "overflow_y": null,
            "padding": null,
            "right": null,
            "top": null,
            "visibility": null,
            "width": null
          }
        },
        "77ac7b7233da402dae184ab383c847b0": {
          "model_module": "@jupyter-widgets/controls",
          "model_module_version": "1.5.0",
          "model_name": "DescriptionStyleModel",
          "state": {
            "_model_module": "@jupyter-widgets/controls",
            "_model_module_version": "1.5.0",
            "_model_name": "DescriptionStyleModel",
            "_view_count": null,
            "_view_module": "@jupyter-widgets/base",
            "_view_module_version": "1.2.0",
            "_view_name": "StyleView",
            "description_width": ""
          }
        },
        "7a210bbd591245a78b6a13530933e75c": {
          "model_module": "@jupyter-widgets/base",
          "model_module_version": "1.2.0",
          "model_name": "LayoutModel",
          "state": {
            "_model_module": "@jupyter-widgets/base",
            "_model_module_version": "1.2.0",
            "_model_name": "LayoutModel",
            "_view_count": null,
            "_view_module": "@jupyter-widgets/base",
            "_view_module_version": "1.2.0",
            "_view_name": "LayoutView",
            "align_content": null,
            "align_items": null,
            "align_self": null,
            "border": null,
            "bottom": null,
            "display": null,
            "flex": null,
            "flex_flow": null,
            "grid_area": null,
            "grid_auto_columns": null,
            "grid_auto_flow": null,
            "grid_auto_rows": null,
            "grid_column": null,
            "grid_gap": null,
            "grid_row": null,
            "grid_template_areas": null,
            "grid_template_columns": null,
            "grid_template_rows": null,
            "height": null,
            "justify_content": null,
            "justify_items": null,
            "left": null,
            "margin": null,
            "max_height": null,
            "max_width": null,
            "min_height": null,
            "min_width": null,
            "object_fit": null,
            "object_position": null,
            "order": null,
            "overflow": null,
            "overflow_x": null,
            "overflow_y": null,
            "padding": null,
            "right": null,
            "top": null,
            "visibility": null,
            "width": null
          }
        },
        "7ba4e79e83ee4bceac5c3f4826d8932c": {
          "model_module": "@jupyter-widgets/base",
          "model_module_version": "1.2.0",
          "model_name": "LayoutModel",
          "state": {
            "_model_module": "@jupyter-widgets/base",
            "_model_module_version": "1.2.0",
            "_model_name": "LayoutModel",
            "_view_count": null,
            "_view_module": "@jupyter-widgets/base",
            "_view_module_version": "1.2.0",
            "_view_name": "LayoutView",
            "align_content": null,
            "align_items": null,
            "align_self": null,
            "border": null,
            "bottom": null,
            "display": null,
            "flex": null,
            "flex_flow": null,
            "grid_area": null,
            "grid_auto_columns": null,
            "grid_auto_flow": null,
            "grid_auto_rows": null,
            "grid_column": null,
            "grid_gap": null,
            "grid_row": null,
            "grid_template_areas": null,
            "grid_template_columns": null,
            "grid_template_rows": null,
            "height": null,
            "justify_content": null,
            "justify_items": null,
            "left": null,
            "margin": null,
            "max_height": null,
            "max_width": null,
            "min_height": null,
            "min_width": null,
            "object_fit": null,
            "object_position": null,
            "order": null,
            "overflow": null,
            "overflow_x": null,
            "overflow_y": null,
            "padding": null,
            "right": null,
            "top": null,
            "visibility": null,
            "width": null
          }
        },
        "7bcce58f834c4418a1f2176f19bc949c": {
          "model_module": "@jupyter-widgets/base",
          "model_module_version": "1.2.0",
          "model_name": "LayoutModel",
          "state": {
            "_model_module": "@jupyter-widgets/base",
            "_model_module_version": "1.2.0",
            "_model_name": "LayoutModel",
            "_view_count": null,
            "_view_module": "@jupyter-widgets/base",
            "_view_module_version": "1.2.0",
            "_view_name": "LayoutView",
            "align_content": null,
            "align_items": null,
            "align_self": null,
            "border": null,
            "bottom": null,
            "display": null,
            "flex": null,
            "flex_flow": null,
            "grid_area": null,
            "grid_auto_columns": null,
            "grid_auto_flow": null,
            "grid_auto_rows": null,
            "grid_column": null,
            "grid_gap": null,
            "grid_row": null,
            "grid_template_areas": null,
            "grid_template_columns": null,
            "grid_template_rows": null,
            "height": null,
            "justify_content": null,
            "justify_items": null,
            "left": null,
            "margin": null,
            "max_height": null,
            "max_width": null,
            "min_height": null,
            "min_width": null,
            "object_fit": null,
            "object_position": null,
            "order": null,
            "overflow": null,
            "overflow_x": null,
            "overflow_y": null,
            "padding": null,
            "right": null,
            "top": null,
            "visibility": null,
            "width": null
          }
        },
        "84dcada8f8be46338b003c2e648994b4": {
          "model_module": "@jupyter-widgets/controls",
          "model_module_version": "1.5.0",
          "model_name": "HTMLModel",
          "state": {
            "_dom_classes": [],
            "_model_module": "@jupyter-widgets/controls",
            "_model_module_version": "1.5.0",
            "_model_name": "HTMLModel",
            "_view_count": null,
            "_view_module": "@jupyter-widgets/controls",
            "_view_module_version": "1.5.0",
            "_view_name": "HTMLView",
            "description": "",
            "description_tooltip": null,
            "layout": "IPY_MODEL_44485b6af7b741eeb29300e2b1e53019",
            "placeholder": "​",
            "style": "IPY_MODEL_c73eaa3eb86e4477a1d795841775c772",
            "value": "Downloading artifacts: 100%"
          }
        },
        "93f2c698bacb40f59b0276cf4b37d243": {
          "model_module": "@jupyter-widgets/controls",
          "model_module_version": "1.5.0",
          "model_name": "FloatProgressModel",
          "state": {
            "_dom_classes": [],
            "_model_module": "@jupyter-widgets/controls",
            "_model_module_version": "1.5.0",
            "_model_name": "FloatProgressModel",
            "_view_count": null,
            "_view_module": "@jupyter-widgets/controls",
            "_view_module_version": "1.5.0",
            "_view_name": "ProgressView",
            "bar_style": "success",
            "description": "",
            "description_tooltip": null,
            "layout": "IPY_MODEL_08dc72908c0a49fca05be7f0d6770015",
            "max": 15,
            "min": 0,
            "orientation": "horizontal",
            "style": "IPY_MODEL_cfa917d5778247c28fbbd075fd0b9ad7",
            "value": 15
          }
        },
        "964736352fd54b0cbbbb8100ebb40c98": {
          "model_module": "@jupyter-widgets/controls",
          "model_module_version": "1.5.0",
          "model_name": "DescriptionStyleModel",
          "state": {
            "_model_module": "@jupyter-widgets/controls",
            "_model_module_version": "1.5.0",
            "_model_name": "DescriptionStyleModel",
            "_view_count": null,
            "_view_module": "@jupyter-widgets/base",
            "_view_module_version": "1.2.0",
            "_view_name": "StyleView",
            "description_width": ""
          }
        },
        "9649dad7e8394683b87e2515e817b045": {
          "model_module": "@jupyter-widgets/controls",
          "model_module_version": "1.5.0",
          "model_name": "DescriptionStyleModel",
          "state": {
            "_model_module": "@jupyter-widgets/controls",
            "_model_module_version": "1.5.0",
            "_model_name": "DescriptionStyleModel",
            "_view_count": null,
            "_view_module": "@jupyter-widgets/base",
            "_view_module_version": "1.2.0",
            "_view_name": "StyleView",
            "description_width": ""
          }
        },
        "a01e173382004ba9b72198131fc1d629": {
          "model_module": "@jupyter-widgets/controls",
          "model_module_version": "1.5.0",
          "model_name": "HTMLModel",
          "state": {
            "_dom_classes": [],
            "_model_module": "@jupyter-widgets/controls",
            "_model_module_version": "1.5.0",
            "_model_name": "HTMLModel",
            "_view_count": null,
            "_view_module": "@jupyter-widgets/controls",
            "_view_module_version": "1.5.0",
            "_view_name": "HTMLView",
            "description": "",
            "description_tooltip": null,
            "layout": "IPY_MODEL_07e53cbea69c4c1098605234cc8a50e7",
            "placeholder": "​",
            "style": "IPY_MODEL_61f0af3d83f7469baf4ab10aad6aa20a",
            "value": "Downloading artifacts: 100%"
          }
        },
        "a64ade1af5964b669512d910569f21b4": {
          "model_module": "@jupyter-widgets/controls",
          "model_module_version": "1.5.0",
          "model_name": "ProgressStyleModel",
          "state": {
            "_model_module": "@jupyter-widgets/controls",
            "_model_module_version": "1.5.0",
            "_model_name": "ProgressStyleModel",
            "_view_count": null,
            "_view_module": "@jupyter-widgets/base",
            "_view_module_version": "1.2.0",
            "_view_name": "StyleView",
            "bar_color": null,
            "description_width": ""
          }
        },
        "a9addfe3f6014fcc90eabec05e6b1233": {
          "model_module": "@jupyter-widgets/controls",
          "model_module_version": "1.5.0",
          "model_name": "DescriptionStyleModel",
          "state": {
            "_model_module": "@jupyter-widgets/controls",
            "_model_module_version": "1.5.0",
            "_model_name": "DescriptionStyleModel",
            "_view_count": null,
            "_view_module": "@jupyter-widgets/base",
            "_view_module_version": "1.2.0",
            "_view_name": "StyleView",
            "description_width": ""
          }
        },
        "b12c15e6846c40a8b61128889b8a2bd0": {
          "model_module": "@jupyter-widgets/controls",
          "model_module_version": "1.5.0",
          "model_name": "DescriptionStyleModel",
          "state": {
            "_model_module": "@jupyter-widgets/controls",
            "_model_module_version": "1.5.0",
            "_model_name": "DescriptionStyleModel",
            "_view_count": null,
            "_view_module": "@jupyter-widgets/base",
            "_view_module_version": "1.2.0",
            "_view_name": "StyleView",
            "description_width": ""
          }
        },
        "b70d4ade4a37485190da188a1e7f09a4": {
          "model_module": "@jupyter-widgets/base",
          "model_module_version": "1.2.0",
          "model_name": "LayoutModel",
          "state": {
            "_model_module": "@jupyter-widgets/base",
            "_model_module_version": "1.2.0",
            "_model_name": "LayoutModel",
            "_view_count": null,
            "_view_module": "@jupyter-widgets/base",
            "_view_module_version": "1.2.0",
            "_view_name": "LayoutView",
            "align_content": null,
            "align_items": null,
            "align_self": null,
            "border": null,
            "bottom": null,
            "display": null,
            "flex": null,
            "flex_flow": null,
            "grid_area": null,
            "grid_auto_columns": null,
            "grid_auto_flow": null,
            "grid_auto_rows": null,
            "grid_column": null,
            "grid_gap": null,
            "grid_row": null,
            "grid_template_areas": null,
            "grid_template_columns": null,
            "grid_template_rows": null,
            "height": null,
            "justify_content": null,
            "justify_items": null,
            "left": null,
            "margin": null,
            "max_height": null,
            "max_width": null,
            "min_height": null,
            "min_width": null,
            "object_fit": null,
            "object_position": null,
            "order": null,
            "overflow": null,
            "overflow_x": null,
            "overflow_y": null,
            "padding": null,
            "right": null,
            "top": null,
            "visibility": null,
            "width": null
          }
        },
        "c73eaa3eb86e4477a1d795841775c772": {
          "model_module": "@jupyter-widgets/controls",
          "model_module_version": "1.5.0",
          "model_name": "DescriptionStyleModel",
          "state": {
            "_model_module": "@jupyter-widgets/controls",
            "_model_module_version": "1.5.0",
            "_model_name": "DescriptionStyleModel",
            "_view_count": null,
            "_view_module": "@jupyter-widgets/base",
            "_view_module_version": "1.2.0",
            "_view_name": "StyleView",
            "description_width": ""
          }
        },
        "ce1fc3bff19c4eeaabd40f8be940d839": {
          "model_module": "@jupyter-widgets/controls",
          "model_module_version": "1.5.0",
          "model_name": "FloatProgressModel",
          "state": {
            "_dom_classes": [],
            "_model_module": "@jupyter-widgets/controls",
            "_model_module_version": "1.5.0",
            "_model_name": "FloatProgressModel",
            "_view_count": null,
            "_view_module": "@jupyter-widgets/controls",
            "_view_module_version": "1.5.0",
            "_view_name": "ProgressView",
            "bar_style": "success",
            "description": "",
            "description_tooltip": null,
            "layout": "IPY_MODEL_cf9103e7be074932b35a7eb418bb91fb",
            "max": 4,
            "min": 0,
            "orientation": "horizontal",
            "style": "IPY_MODEL_d4eb5051b48a4a4891c82dc0d97812c0",
            "value": 4
          }
        },
        "cf9103e7be074932b35a7eb418bb91fb": {
          "model_module": "@jupyter-widgets/base",
          "model_module_version": "1.2.0",
          "model_name": "LayoutModel",
          "state": {
            "_model_module": "@jupyter-widgets/base",
            "_model_module_version": "1.2.0",
            "_model_name": "LayoutModel",
            "_view_count": null,
            "_view_module": "@jupyter-widgets/base",
            "_view_module_version": "1.2.0",
            "_view_name": "LayoutView",
            "align_content": null,
            "align_items": null,
            "align_self": null,
            "border": null,
            "bottom": null,
            "display": null,
            "flex": null,
            "flex_flow": null,
            "grid_area": null,
            "grid_auto_columns": null,
            "grid_auto_flow": null,
            "grid_auto_rows": null,
            "grid_column": null,
            "grid_gap": null,
            "grid_row": null,
            "grid_template_areas": null,
            "grid_template_columns": null,
            "grid_template_rows": null,
            "height": null,
            "justify_content": null,
            "justify_items": null,
            "left": null,
            "margin": null,
            "max_height": null,
            "max_width": null,
            "min_height": null,
            "min_width": null,
            "object_fit": null,
            "object_position": null,
            "order": null,
            "overflow": null,
            "overflow_x": null,
            "overflow_y": null,
            "padding": null,
            "right": null,
            "top": null,
            "visibility": null,
            "width": null
          }
        },
        "cfa917d5778247c28fbbd075fd0b9ad7": {
          "model_module": "@jupyter-widgets/controls",
          "model_module_version": "1.5.0",
          "model_name": "ProgressStyleModel",
          "state": {
            "_model_module": "@jupyter-widgets/controls",
            "_model_module_version": "1.5.0",
            "_model_name": "ProgressStyleModel",
            "_view_count": null,
            "_view_module": "@jupyter-widgets/base",
            "_view_module_version": "1.2.0",
            "_view_name": "StyleView",
            "bar_color": null,
            "description_width": ""
          }
        },
        "d3c7cdefe3794e548ac123e53ffec0b1": {
          "model_module": "@jupyter-widgets/base",
          "model_module_version": "1.2.0",
          "model_name": "LayoutModel",
          "state": {
            "_model_module": "@jupyter-widgets/base",
            "_model_module_version": "1.2.0",
            "_model_name": "LayoutModel",
            "_view_count": null,
            "_view_module": "@jupyter-widgets/base",
            "_view_module_version": "1.2.0",
            "_view_name": "LayoutView",
            "align_content": null,
            "align_items": null,
            "align_self": null,
            "border": null,
            "bottom": null,
            "display": null,
            "flex": null,
            "flex_flow": null,
            "grid_area": null,
            "grid_auto_columns": null,
            "grid_auto_flow": null,
            "grid_auto_rows": null,
            "grid_column": null,
            "grid_gap": null,
            "grid_row": null,
            "grid_template_areas": null,
            "grid_template_columns": null,
            "grid_template_rows": null,
            "height": null,
            "justify_content": null,
            "justify_items": null,
            "left": null,
            "margin": null,
            "max_height": null,
            "max_width": null,
            "min_height": null,
            "min_width": null,
            "object_fit": null,
            "object_position": null,
            "order": null,
            "overflow": null,
            "overflow_x": null,
            "overflow_y": null,
            "padding": null,
            "right": null,
            "top": null,
            "visibility": null,
            "width": null
          }
        },
        "d3caa3880bd443a09773195474781a0a": {
          "model_module": "@jupyter-widgets/controls",
          "model_module_version": "1.5.0",
          "model_name": "HTMLModel",
          "state": {
            "_dom_classes": [],
            "_model_module": "@jupyter-widgets/controls",
            "_model_module_version": "1.5.0",
            "_model_name": "HTMLModel",
            "_view_count": null,
            "_view_module": "@jupyter-widgets/controls",
            "_view_module_version": "1.5.0",
            "_view_name": "HTMLView",
            "description": "",
            "description_tooltip": null,
            "layout": "IPY_MODEL_d3c7cdefe3794e548ac123e53ffec0b1",
            "placeholder": "​",
            "style": "IPY_MODEL_a9addfe3f6014fcc90eabec05e6b1233",
            "value": " 4/4 [00:00&lt;00:00, 322.16it/s]"
          }
        },
        "d4eb5051b48a4a4891c82dc0d97812c0": {
          "model_module": "@jupyter-widgets/controls",
          "model_module_version": "1.5.0",
          "model_name": "ProgressStyleModel",
          "state": {
            "_model_module": "@jupyter-widgets/controls",
            "_model_module_version": "1.5.0",
            "_model_name": "ProgressStyleModel",
            "_view_count": null,
            "_view_module": "@jupyter-widgets/base",
            "_view_module_version": "1.2.0",
            "_view_name": "StyleView",
            "bar_color": null,
            "description_width": ""
          }
        },
        "dd820fede2f94c5a95799e23c85518ec": {
          "model_module": "@jupyter-widgets/controls",
          "model_module_version": "1.5.0",
          "model_name": "DescriptionStyleModel",
          "state": {
            "_model_module": "@jupyter-widgets/controls",
            "_model_module_version": "1.5.0",
            "_model_name": "DescriptionStyleModel",
            "_view_count": null,
            "_view_module": "@jupyter-widgets/base",
            "_view_module_version": "1.2.0",
            "_view_name": "StyleView",
            "description_width": ""
          }
        },
        "ea83554788e8471bb488e964d60f375d": {
          "model_module": "@jupyter-widgets/controls",
          "model_module_version": "1.5.0",
          "model_name": "HBoxModel",
          "state": {
            "_dom_classes": [],
            "_model_module": "@jupyter-widgets/controls",
            "_model_module_version": "1.5.0",
            "_model_name": "HBoxModel",
            "_view_count": null,
            "_view_module": "@jupyter-widgets/controls",
            "_view_module_version": "1.5.0",
            "_view_name": "HBoxView",
            "box_style": "",
            "children": [
              "IPY_MODEL_370e367862484aafaa026887b23ef505",
              "IPY_MODEL_ce1fc3bff19c4eeaabd40f8be940d839",
              "IPY_MODEL_f10a31c184d64c5fa4acafce10b5ddf2"
            ],
            "layout": "IPY_MODEL_7a210bbd591245a78b6a13530933e75c"
          }
        },
        "ebda284cdf034437b47ce59beb21be3c": {
          "model_module": "@jupyter-widgets/controls",
          "model_module_version": "1.5.0",
          "model_name": "HTMLModel",
          "state": {
            "_dom_classes": [],
            "_model_module": "@jupyter-widgets/controls",
            "_model_module_version": "1.5.0",
            "_model_name": "HTMLModel",
            "_view_count": null,
            "_view_module": "@jupyter-widgets/controls",
            "_view_module_version": "1.5.0",
            "_view_name": "HTMLView",
            "description": "",
            "description_tooltip": null,
            "layout": "IPY_MODEL_b70d4ade4a37485190da188a1e7f09a4",
            "placeholder": "​",
            "style": "IPY_MODEL_0bbe2288b8cc40eb810ff55becc56c4d",
            "value": " 2/2 [00:51&lt;00:00, 24.96s/it]"
          }
        },
        "ef0cb2f2d00841db8d932566e26dd34f": {
          "model_module": "@jupyter-widgets/base",
          "model_module_version": "1.2.0",
          "model_name": "LayoutModel",
          "state": {
            "_model_module": "@jupyter-widgets/base",
            "_model_module_version": "1.2.0",
            "_model_name": "LayoutModel",
            "_view_count": null,
            "_view_module": "@jupyter-widgets/base",
            "_view_module_version": "1.2.0",
            "_view_name": "LayoutView",
            "align_content": null,
            "align_items": null,
            "align_self": null,
            "border": null,
            "bottom": null,
            "display": null,
            "flex": null,
            "flex_flow": null,
            "grid_area": null,
            "grid_auto_columns": null,
            "grid_auto_flow": null,
            "grid_auto_rows": null,
            "grid_column": null,
            "grid_gap": null,
            "grid_row": null,
            "grid_template_areas": null,
            "grid_template_columns": null,
            "grid_template_rows": null,
            "height": null,
            "justify_content": null,
            "justify_items": null,
            "left": null,
            "margin": null,
            "max_height": null,
            "max_width": null,
            "min_height": null,
            "min_width": null,
            "object_fit": null,
            "object_position": null,
            "order": null,
            "overflow": null,
            "overflow_x": null,
            "overflow_y": null,
            "padding": null,
            "right": null,
            "top": null,
            "visibility": null,
            "width": null
          }
        },
        "f10a31c184d64c5fa4acafce10b5ddf2": {
          "model_module": "@jupyter-widgets/controls",
          "model_module_version": "1.5.0",
          "model_name": "HTMLModel",
          "state": {
            "_dom_classes": [],
            "_model_module": "@jupyter-widgets/controls",
            "_model_module_version": "1.5.0",
            "_model_name": "HTMLModel",
            "_view_count": null,
            "_view_module": "@jupyter-widgets/controls",
            "_view_module_version": "1.5.0",
            "_view_name": "HTMLView",
            "description": "",
            "description_tooltip": null,
            "layout": "IPY_MODEL_347408c2829845faa4e9eba5b4b65549",
            "placeholder": "​",
            "style": "IPY_MODEL_964736352fd54b0cbbbb8100ebb40c98",
            "value": " 4/4 [01:19&lt;00:00, 18.59s/it]"
          }
        },
        "f1ad628af7404f3386cf219fd3bb5c3b": {
          "model_module": "@jupyter-widgets/controls",
          "model_module_version": "1.5.0",
          "model_name": "HBoxModel",
          "state": {
            "_dom_classes": [],
            "_model_module": "@jupyter-widgets/controls",
            "_model_module_version": "1.5.0",
            "_model_name": "HBoxModel",
            "_view_count": null,
            "_view_module": "@jupyter-widgets/controls",
            "_view_module_version": "1.5.0",
            "_view_name": "HBoxView",
            "box_style": "",
            "children": [
              "IPY_MODEL_a01e173382004ba9b72198131fc1d629",
              "IPY_MODEL_93f2c698bacb40f59b0276cf4b37d243",
              "IPY_MODEL_5e07c6ebc9e14646817e38a1d8b76365"
            ],
            "layout": "IPY_MODEL_fe4c82345b444fe1987171c3b825dbc1"
          }
        },
        "f639d15302384c8ba8e5a06c4c910579": {
          "model_module": "@jupyter-widgets/base",
          "model_module_version": "1.2.0",
          "model_name": "LayoutModel",
          "state": {
            "_model_module": "@jupyter-widgets/base",
            "_model_module_version": "1.2.0",
            "_model_name": "LayoutModel",
            "_view_count": null,
            "_view_module": "@jupyter-widgets/base",
            "_view_module_version": "1.2.0",
            "_view_name": "LayoutView",
            "align_content": null,
            "align_items": null,
            "align_self": null,
            "border": null,
            "bottom": null,
            "display": null,
            "flex": null,
            "flex_flow": null,
            "grid_area": null,
            "grid_auto_columns": null,
            "grid_auto_flow": null,
            "grid_auto_rows": null,
            "grid_column": null,
            "grid_gap": null,
            "grid_row": null,
            "grid_template_areas": null,
            "grid_template_columns": null,
            "grid_template_rows": null,
            "height": null,
            "justify_content": null,
            "justify_items": null,
            "left": null,
            "margin": null,
            "max_height": null,
            "max_width": null,
            "min_height": null,
            "min_width": null,
            "object_fit": null,
            "object_position": null,
            "order": null,
            "overflow": null,
            "overflow_x": null,
            "overflow_y": null,
            "padding": null,
            "right": null,
            "top": null,
            "visibility": null,
            "width": null
          }
        },
        "fdbcd9e14da142b3bbeda9ff61d7c99d": {
          "model_module": "@jupyter-widgets/controls",
          "model_module_version": "1.5.0",
          "model_name": "DescriptionStyleModel",
          "state": {
            "_model_module": "@jupyter-widgets/controls",
            "_model_module_version": "1.5.0",
            "_model_name": "DescriptionStyleModel",
            "_view_count": null,
            "_view_module": "@jupyter-widgets/base",
            "_view_module_version": "1.2.0",
            "_view_name": "StyleView",
            "description_width": ""
          }
        },
        "fe4c82345b444fe1987171c3b825dbc1": {
          "model_module": "@jupyter-widgets/base",
          "model_module_version": "1.2.0",
          "model_name": "LayoutModel",
          "state": {
            "_model_module": "@jupyter-widgets/base",
            "_model_module_version": "1.2.0",
            "_model_name": "LayoutModel",
            "_view_count": null,
            "_view_module": "@jupyter-widgets/base",
            "_view_module_version": "1.2.0",
            "_view_name": "LayoutView",
            "align_content": null,
            "align_items": null,
            "align_self": null,
            "border": null,
            "bottom": null,
            "display": null,
            "flex": null,
            "flex_flow": null,
            "grid_area": null,
            "grid_auto_columns": null,
            "grid_auto_flow": null,
            "grid_auto_rows": null,
            "grid_column": null,
            "grid_gap": null,
            "grid_row": null,
            "grid_template_areas": null,
            "grid_template_columns": null,
            "grid_template_rows": null,
            "height": null,
            "justify_content": null,
            "justify_items": null,
            "left": null,
            "margin": null,
            "max_height": null,
            "max_width": null,
            "min_height": null,
            "min_width": null,
            "object_fit": null,
            "object_position": null,
            "order": null,
            "overflow": null,
            "overflow_x": null,
            "overflow_y": null,
            "padding": null,
            "right": null,
            "top": null,
            "visibility": null,
            "width": null
          }
        }
      }
    }
  },
  "nbformat": 4,
  "nbformat_minor": 0
}
